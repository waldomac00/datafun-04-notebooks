{
 "cells": [
  {
   "attachments": {},
   "cell_type": "markdown",
   "metadata": {},
   "source": [
    "# Michael J Moore Notebook - Intro to Jupyter\n",
    "\n",
    "TODO: Create a standard header for your notebooks with your company/name/alias and a link to the repo.\n",
    "\n",
    "- Author: [Michael J Moore](https://github.com/waldomac00/)\n",
    "- Repository: [datafun-04-notebooks](https://github.com/waldomac00/datafun-04-notebooks)"
   ]
  },
  {
   "cell_type": "markdown",
   "metadata": {},
   "source": [
    "## Section 1. Getting Started\n",
    "\n",
    "This is a Markdown cell (not a Python cell). \n",
    "Here are a few tips to help you get started with Jupyter Notebooks:\n",
    "\n",
    "- To run a cell, press **Ctrl+Enter** (or **Cmd+Enter** on Mac) when you're done editing the cell.\n",
    "- You can change the type of a cell (e.g., code or markdown) by looking in the lower left corner of the notebook interface.\n",
    "- You can rearrange cells by dragging and dropping them within the notebook.\n",
    "- After creating a new notebook, use **File > Save as** to rename and save it into your repository folder.\n",
    "- To select a kernel (Python environment) for your notebook in Visual Studio Code, click on the **Select Kernel** name in the top-right corner of the notebook interface and choose the desired kernel from the dropdown menu. Follow suggestions to install recommended extensions. Once installed, click Select Kernel / Python Environments and choose the Recommended `.venv` option we created earlier. This will create a new kernel for the notebook and allow you to run code in the notebook using the packages installed in the virtual environment.\n"
   ]
  },
  {
   "cell_type": "markdown",
   "metadata": {},
   "source": [
    "## Section 2. Imports\n",
    "\n",
    "This is a Markdown cell. "
   ]
  },
  {
   "cell_type": "code",
   "execution_count": null,
   "metadata": {},
   "outputs": [],
   "source": [
    "# Imports still go at the top. This is a Python cell.\n",
    "\n",
    "\n",
    "# Import from external packages\n",
    "import numpy as np\n",
    "import pandas as pd\n",
    "import seaborn as sns\n",
    "import matplotlib\n",
    "import ipywidgets  # interactive widgets\n",
    "import IPython  # used for display of widgets\n",
    "\n",
    "# Type hint for Axes object (basic plot type returned by Seaborn)\n",
    "# A seaborn plot is a set of axes and you can set the title, labels, etc. on the axes.\n",
    "from matplotlib.axes import Axes\n",
    "\n",
    "# A figure can contain multiple axes (plots)\n",
    "# from matplotlib.figure import Figure"
   ]
  },
  {
   "cell_type": "code",
   "execution_count": null,
   "metadata": {},
   "outputs": [],
   "source": [
    "import sys\n",
    "print(sys.executable)\n"
   ]
  },
  {
   "cell_type": "code",
   "execution_count": 1,
   "metadata": {},
   "outputs": [
    {
     "ename": "NameError",
     "evalue": "name 'np' is not defined",
     "output_type": "error",
     "traceback": [
      "\u001b[31m---------------------------------------------------------------------------\u001b[39m",
      "\u001b[31mNameError\u001b[39m                                 Traceback (most recent call last)",
      "\u001b[36mCell\u001b[39m\u001b[36m \u001b[39m\u001b[32mIn[1]\u001b[39m\u001b[32m, line 1\u001b[39m\n\u001b[32m----> \u001b[39m\u001b[32m1\u001b[39m arr=\u001b[43mnp\u001b[49m.array([\u001b[32m1\u001b[39m, \u001b[32m2\u001b[39m, \u001b[32m3\u001b[39m])\n\u001b[32m      2\u001b[39m \u001b[38;5;28mprint\u001b[39m(arr)\n",
      "\u001b[31mNameError\u001b[39m: name 'np' is not defined"
     ]
    }
   ],
   "source": [
    "arr=np.array([1, 2, 3])\n",
    "print(arr)"
   ]
  },
  {
   "attachments": {},
   "cell_type": "markdown",
   "metadata": {},
   "source": [
    "## Section 3. Load and Explore Seaborn Penguins Dataset\n",
    "\n",
    "This is a Markdown cell."
   ]
  },
  {
   "cell_type": "code",
   "execution_count": null,
   "metadata": {},
   "outputs": [],
   "source": [
    "# This cell is Python, so we can write Python code here.......\n",
    "\n",
    "# Load the penguins dataset from Seaborn\n",
    "# Into a pandas DataFrame (table)\n",
    "penguins_df: pd.DataFrame = sns.load_dataset(\"penguins\")\n",
    "\n",
    "# Show a few lines from the start of the dataset\n",
    "penguins_df.head()"
   ]
  },
  {
   "cell_type": "markdown",
   "metadata": {},
   "source": [
    "## Section 4. Create a Seaborn Scatter Plot\n",
    "\n",
    "A scatter plot is used to visualize the relationship between two numerical variables. \n",
    "This is a Markdown cell. "
   ]
  },
  {
   "cell_type": "code",
   "execution_count": null,
   "metadata": {},
   "outputs": [],
   "source": [
    "# This cell is Python too - previous cells must be run first\n",
    "\n",
    "# Create a scatter plot of penguin flipper length vs. body mass\n",
    "# We need to know our dataset column names so we can use them to set x, y, and hue (color)\n",
    "scatter_plt: Axes = sns.scatterplot(\n",
    "    data=penguins_df, x=\"flipper_length_mm\", y=\"body_mass_g\", hue=\"species\"\n",
    ")\n",
    "\n",
    "# Set axis labels using the Matplotlib Axes methods set_xlabel() and set_ylabel()\n",
    "scatter_plt.set_xlabel(\"Flipper Length (mm)\")\n",
    "scatter_plt.set_ylabel(\"Body Mass (g)\")\n",
    "\n",
    "# Set the title using the Matplotlib Axes set_title() method\n",
    "scatter_plt.set_title(\"Chart 1. Penguin Flipper Length vs. Body Mass (by Species)\")\n",
    "\n",
    "# Run this cell by clicking the play button (Execute cell and below) in the cell toolbar\n",
    "# Or by pressing Shift+Enter\n",
    "# or by clicking Run All in the Menu above"
   ]
  },
  {
   "cell_type": "markdown",
   "metadata": {},
   "source": [
    "## Section 5. Create a Seaborn Bar Plot\n",
    "\n",
    "A bar plot is used to show the relationship between a numerical variable and a categorical variable.\n",
    "This is a markdown cell."
   ]
  },
  {
   "cell_type": "code",
   "execution_count": null,
   "metadata": {},
   "outputs": [],
   "source": [
    "# This is a Python cell\n",
    "# Specify some sales data as a Python dictionary\n",
    "sales_data_dict: dict = {\"Category\": [\"A\", \"B\", \"C\"], \"Sales\": [200, 150, 300]}\n",
    "\n",
    "# Create a pandas DataFrame from the dictionary\n",
    "sales_df: pd.DataFrame = pd.DataFrame(sales_data_dict)\n",
    "\n",
    "# Create a Seaborn Bar Plot of Sales by Category\n",
    "sales_plt: Axes = sns.barplot(x=\"Category\", y=\"Sales\", data=sales_df)\n",
    "\n",
    "# Set the title using the Matplotlib Pyplot title() method\n",
    "sales_plt.set_title(\"Chart 2. Sales by Category\")"
   ]
  },
  {
   "cell_type": "markdown",
   "metadata": {},
   "source": [
    "## Section 6. Create an Interactive Widget with ipywidgets\n",
    "\n",
    "Add sliders, dropdowns, or interactive inputs to make the notebook dynamic.\n",
    "This is a Markdown cell. "
   ]
  },
  {
   "cell_type": "code",
   "execution_count": null,
   "metadata": {},
   "outputs": [],
   "source": [
    "# This is a Python cell.\n",
    "# All imports appear once at the top of the notebook.\n",
    "\n",
    "# Generate sample data (e.g., heights in centimeters)\n",
    "# For reproducibility always set the random seed to the same value\n",
    "np.random.seed(42)\n",
    "\n",
    "# Generate 1000 random samples from a normal distribution\n",
    "# with a mean of 170 and standard deviation of 10 and store in a NumPy array\n",
    "sample_data_array = np.random.normal(loc=170, scale=10, size=1000)\n",
    "\n",
    "# Create an interactive ipywidgets Integer Slider for the number of bins\n",
    "bins_slider = ipywidgets.IntSlider(\n",
    "    value=10,  # Default value\n",
    "    min=5,  # Minimum number of bins\n",
    "    max=50,  # Maximum number of bins\n",
    "    step=1,  # Step size\n",
    "    description=\"Bins:\",\n",
    ")\n",
    "\n",
    "# Function to create a histogram with a default bin number of 10\n",
    "def plot_histogram(count_of_bins: int = 10):\n",
    "    \"\"\"\n",
    "    Plots a histogram of the sample data with the given number of bins.\n",
    "\n",
    "    Args:\n",
    "        bins (int): Number of bins for the histogram.\n",
    "    \"\"\"\n",
    "    # Create a figure and axis\n",
    "    fig, ax = matplotlib.pyplot.subplots(figsize=(8, 5))\n",
    "    \n",
    "    # Plot the histogram (call the axes.hist() method)\n",
    "    ax.hist(sample_data_array, bins=count_of_bins, color=\"skyblue\", edgecolor=\"black\")\n",
    "    \n",
    "    # Set titles and labels for this axis\n",
    "    ax.set_title(\"Chart 3. Interactive Histogram (use slider to change number of bins)\")\n",
    "    ax.set_xlabel(\"Value\")\n",
    "    ax.set_ylabel(\"Frequency\")\n",
    "    \n",
    "    # Add grid lines\n",
    "    ax.grid(axis=\"y\", linestyle=\"--\", alpha=0.7)\n",
    "    \n",
    "    # Display the plot - not needed in a notebook \n",
    "    # Call this only if using this code in a script\n",
    "    # ax.show()\n",
    "\n",
    "\n",
    "# Use ipywidgets to link the slider to the plot_histogram function\n",
    "interactive_hist = ipywidgets.interactive(plot_histogram, bins=bins_slider)\n",
    "\n",
    "# Display the interactive plot\n",
    "IPython.display.display(interactive_hist)"
   ]
  },
  {
   "attachments": {},
   "cell_type": "markdown",
   "metadata": {},
   "source": [
    "## Section 7. Reminder: Run All before sending to GitHub\n",
    "\n",
    "Before committing a notebook, use 'Run All' to generate all outputs and display them in the notebook. \n",
    "This is a Markdown cell.\n"
   ]
  }
 ],
 "metadata": {
  "kernelspec": {
   "display_name": ".venv",
   "language": "python",
   "name": "python3"
  },
  "language_info": {
   "codemirror_mode": {
    "name": "ipython",
    "version": 3
   },
   "file_extension": ".py",
   "mimetype": "text/x-python",
   "name": "python",
   "nbconvert_exporter": "python",
   "pygments_lexer": "ipython3",
   "version": "3.13.7"
  },
  "orig_nbformat": 4
 },
 "nbformat": 4,
 "nbformat_minor": 2
}
